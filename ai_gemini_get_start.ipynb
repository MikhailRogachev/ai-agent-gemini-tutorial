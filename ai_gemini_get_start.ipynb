{
  "nbformat": 4,
  "nbformat_minor": 0,
  "metadata": {
    "colab": {
      "provenance": [],
      "authorship_tag": "ABX9TyOPU7LgSo/7RoFMrFewUKBN",
      "include_colab_link": true
    },
    "kernelspec": {
      "name": "python3",
      "display_name": "Python 3"
    },
    "language_info": {
      "name": "python"
    }
  },
  "cells": [
    {
      "cell_type": "markdown",
      "metadata": {
        "id": "view-in-github",
        "colab_type": "text"
      },
      "source": [
        "<a href=\"https://colab.research.google.com/github/MikhailRogachev/ai-agent-gemini-tutorial/blob/master/ai_gemini_get_start.ipynb\" target=\"_parent\"><img src=\"https://colab.research.google.com/assets/colab-badge.svg\" alt=\"Open In Colab\"/></a>"
      ]
    },
    {
      "cell_type": "markdown",
      "source": [
        "## First Request\n",
        "\n",
        "Here is an example that uses the generateContent method to send a request to the Gemini API using the Gemini 2.5 Flash model.\n",
        "\n",
        "If you set your API key as the environment variable GEMINI_API_KEY, it will be picked up automatically by the client when using the Gemini API libraries. Otherwise you will need to pass your API key as an argument when initializing the client.\n",
        "\n",
        "Note that all code samples in the Gemini API docs assume that you have set the environment variable GEMINI_API_KEY.\n",
        "\n",
        "[Quick Start](https://ai.google.dev/gemini-api/docs/quickstart)"
      ],
      "metadata": {
        "id": "3pUPqiNCm0Rj"
      }
    },
    {
      "cell_type": "code",
      "execution_count": null,
      "metadata": {
        "id": "Adov-GkPe9sM"
      },
      "outputs": [],
      "source": [
        "from google import genai\n",
        "from google.colab import userdata"
      ]
    },
    {
      "cell_type": "code",
      "source": [
        "# get api key from environment\n",
        "apikey = userdata.get('GOOGLE_API_KEY')"
      ],
      "metadata": {
        "id": "ZkpFKaS6gySW"
      },
      "execution_count": null,
      "outputs": []
    },
    {
      "cell_type": "code",
      "source": [
        "client = genai.Client(api_key=apikey)"
      ],
      "metadata": {
        "id": "JLKm1PlZhjmK"
      },
      "execution_count": null,
      "outputs": []
    },
    {
      "cell_type": "markdown",
      "source": [
        "##[GenerateContent](https://ai.google.dev/api/generate-content#method:-models.generatecontent)\n",
        "\n",
        "### Endpoint\n",
        "```\n",
        "POST https://generativelanguage.googleapis.com/v1beta/{model=models/*}:generateContent\n",
        "```\n",
        "### Path parameters\n",
        "`model : string`\n",
        "\n",
        "**Required.** The name of the Model to use for generating the completion.\n",
        "\n",
        "**Format:** models/{model}. It takes the form models/{model}.\n",
        "\n",
        "### Request body\n",
        "[Reference](https://ai.google.dev/api/generate-content#request-body)"
      ],
      "metadata": {
        "id": "9-LzT950nlvo"
      }
    },
    {
      "cell_type": "code",
      "source": [
        "response = client.models.generate_content(\n",
        "    model=\"gemini-2.5-flash\", contents=\"Hello my friend\"\n",
        ")\n",
        "print(response.text)"
      ],
      "metadata": {
        "colab": {
          "base_uri": "https://localhost:8080/"
        },
        "id": "huPPcMpjgKfg",
        "outputId": "158a16e1-f550-43f2-f55a-127316c22f25"
      },
      "execution_count": null,
      "outputs": [
        {
          "output_type": "stream",
          "name": "stdout",
          "text": [
            "Hello there! How can I help you today, my friend?\n"
          ]
        }
      ]
    },
    {
      "cell_type": "code",
      "source": [],
      "metadata": {
        "id": "aPmDIkPyhn-q"
      },
      "execution_count": null,
      "outputs": []
    }
  ]
}