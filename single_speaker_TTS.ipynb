{
  "nbformat": 4,
  "nbformat_minor": 0,
  "metadata": {
    "colab": {
      "provenance": [],
      "authorship_tag": "ABX9TyOOsESRXdveOfoJkVrFi9ay",
      "include_colab_link": true
    },
    "kernelspec": {
      "name": "python3",
      "display_name": "Python 3"
    },
    "language_info": {
      "name": "python"
    }
  },
  "cells": [
    {
      "cell_type": "markdown",
      "metadata": {
        "id": "view-in-github",
        "colab_type": "text"
      },
      "source": [
        "<a href=\"https://colab.research.google.com/github/MikhailRogachev/ai-agent-gemini-tutorial/blob/master/single_speaker_TTS.ipynb\" target=\"_parent\"><img src=\"https://colab.research.google.com/assets/colab-badge.svg\" alt=\"Open In Colab\"/></a>"
      ]
    },
    {
      "cell_type": "code",
      "execution_count": 4,
      "metadata": {
        "id": "JrPqmV8TtJYb"
      },
      "outputs": [],
      "source": [
        "from google import genai\n",
        "from google.genai import types\n",
        "from google.colab import userdata\n",
        "\n",
        "import wave"
      ]
    },
    {
      "cell_type": "code",
      "source": [
        "file_name = 'out.wav'"
      ],
      "metadata": {
        "id": "DVXCFt04y1lQ"
      },
      "execution_count": null,
      "outputs": []
    },
    {
      "cell_type": "code",
      "source": [
        "# get api key from environment\n",
        "apikey = userdata.get('GOOGLE_API_KEY')"
      ],
      "metadata": {
        "id": "tLRUxMCzwpde"
      },
      "execution_count": 5,
      "outputs": []
    },
    {
      "cell_type": "code",
      "source": [
        "def wave_file(filename, pcm):\n",
        "    channels = 1\n",
        "    rate = 24000\n",
        "    sample_width = 2\n",
        "\n",
        "    with wave.open(filename, \"wb\") as wf:\n",
        "      wf.setnchannels(channels)\n",
        "      wf.setsampwidth(sample_width)\n",
        "      wf.setframerate(rate)\n",
        "      wf.writeframes(pcm)"
      ],
      "metadata": {
        "id": "iKWtOAjJvafb"
      },
      "execution_count": 2,
      "outputs": []
    },
    {
      "cell_type": "code",
      "source": [
        "client = genai.Client(api_key=apikey)"
      ],
      "metadata": {
        "id": "ne7R0wcGv9xJ"
      },
      "execution_count": null,
      "outputs": []
    },
    {
      "cell_type": "code",
      "source": [
        "response = client.models.generate_content(\n",
        "   model = \"gemini-2.5-flash-preview-tts\",\n",
        "   contents = \"Say cheerfully: Have a wonderful day!\",\n",
        "   config = types.GenerateContentConfig(\n",
        "       thinking_config = types.ThinkingConfig(thinking_budget = 0),\n",
        "       response_modalities = [\"AUDIO\"],\n",
        "       speech_config = types.SpeechConfig(\n",
        "           voice_config = types.VoiceConfig(\n",
        "               prebuilt_voice_config = types.PrebuiltVoiceConfig(\n",
        "                   voice_name = 'Kore'\n",
        "                   )\n",
        "               )\n",
        "           ),\n",
        "       )\n",
        "   )"
      ],
      "metadata": {
        "id": "X4ktMRUqwkRl"
      },
      "execution_count": null,
      "outputs": []
    },
    {
      "cell_type": "code",
      "source": [
        "data = response.candidates[0].content.parts[0].inline_data.data"
      ],
      "metadata": {
        "id": "VP_uFe-oysLu"
      },
      "execution_count": null,
      "outputs": []
    },
    {
      "cell_type": "code",
      "source": [
        "wave_file(file_name, data) # Saves the file to current directory"
      ],
      "metadata": {
        "id": "Whb8gpX-ytXo"
      },
      "execution_count": null,
      "outputs": []
    }
  ]
}