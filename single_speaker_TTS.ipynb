{
  "nbformat": 4,
  "nbformat_minor": 0,
  "metadata": {
    "colab": {
      "provenance": [],
      "authorship_tag": "ABX9TyNJ1Q7TB2wU8jlT9+b6jl+4",
      "include_colab_link": true
    },
    "kernelspec": {
      "name": "python3",
      "display_name": "Python 3"
    },
    "language_info": {
      "name": "python"
    }
  },
  "cells": [
    {
      "cell_type": "markdown",
      "metadata": {
        "id": "view-in-github",
        "colab_type": "text"
      },
      "source": [
        "<a href=\"https://colab.research.google.com/github/MikhailRogachev/ai-agent-gemini-tutorial/blob/master/single_speaker_TTS.ipynb\" target=\"_parent\"><img src=\"https://colab.research.google.com/assets/colab-badge.svg\" alt=\"Open In Colab\"/></a>"
      ]
    },
    {
      "cell_type": "markdown",
      "source": [
        "## Single-speaker text-to-speech\n",
        "[References](https://ai.google.dev/gemini-api/docs/speech-generation#single-speaker)\n",
        "\n",
        "To convert text to single-speaker audio, set the response modality to \"audio\", and pass a SpeechConfig object with VoiceConfig set. You'll need to choose a voice name from the prebuilt output voices.\n",
        "\n",
        "This example saves the output audio from the model in a wave file"
      ],
      "metadata": {
        "id": "Nb9iKOxH5Jzs"
      }
    },
    {
      "cell_type": "code",
      "execution_count": 1,
      "metadata": {
        "id": "JrPqmV8TtJYb"
      },
      "outputs": [],
      "source": [
        "from google import genai\n",
        "from google.genai import types\n",
        "from google.colab import userdata\n",
        "\n",
        "import wave"
      ]
    },
    {
      "cell_type": "code",
      "source": [
        "# the filename to save the sound generated.\n",
        "file_name = 'out.wav'"
      ],
      "metadata": {
        "id": "DVXCFt04y1lQ"
      },
      "execution_count": 2,
      "outputs": []
    },
    {
      "cell_type": "code",
      "source": [
        "# get api key from environment\n",
        "apikey = userdata.get('GOOGLE_API_KEY')"
      ],
      "metadata": {
        "id": "tLRUxMCzwpde"
      },
      "execution_count": 3,
      "outputs": []
    },
    {
      "cell_type": "code",
      "source": [
        "# This function save the data received (pcm) to the file\n",
        "# filename\n",
        "def wave_file(filename, pcm):\n",
        "    channels = 1\n",
        "    rate = 24000\n",
        "    sample_width = 2\n",
        "\n",
        "    with wave.open(filename, \"wb\") as wf:\n",
        "      wf.setnchannels(channels)\n",
        "      wf.setsampwidth(sample_width)\n",
        "      wf.setframerate(rate)\n",
        "      wf.writeframes(pcm)"
      ],
      "metadata": {
        "id": "iKWtOAjJvafb"
      },
      "execution_count": 4,
      "outputs": []
    },
    {
      "cell_type": "code",
      "source": [
        "# Create the client using GOOGLE_API_KEY\n",
        "client = genai.Client(api_key=apikey)"
      ],
      "metadata": {
        "id": "ne7R0wcGv9xJ"
      },
      "execution_count": 5,
      "outputs": []
    },
    {
      "cell_type": "code",
      "source": [
        "my_phrase = 'Hello my Friend!'\n",
        "\n",
        "response = client.models.generate_content(\n",
        "   model = \"gemini-2.5-flash-preview-tts\",\n",
        "   contents = my_phrase,\n",
        "   config = types.GenerateContentConfig(\n",
        "       response_modalities = [\"AUDIO\"],\n",
        "       speech_config = types.SpeechConfig(\n",
        "           voice_config = types.VoiceConfig(\n",
        "               prebuilt_voice_config = types.PrebuiltVoiceConfig(\n",
        "                   voice_name = 'Kore'\n",
        "                   )\n",
        "               )\n",
        "           ),\n",
        "       )\n",
        "   )"
      ],
      "metadata": {
        "id": "X4ktMRUqwkRl"
      },
      "execution_count": 6,
      "outputs": []
    },
    {
      "cell_type": "code",
      "source": [
        "# data extracted from the Gemini response\n",
        "data = response.candidates[0].content.parts[0].inline_data.data"
      ],
      "metadata": {
        "id": "VP_uFe-oysLu"
      },
      "execution_count": 7,
      "outputs": []
    },
    {
      "cell_type": "code",
      "source": [
        "# save data received to the file\n",
        "wave_file(file_name, data)"
      ],
      "metadata": {
        "id": "Whb8gpX-ytXo"
      },
      "execution_count": 8,
      "outputs": []
    }
  ]
}